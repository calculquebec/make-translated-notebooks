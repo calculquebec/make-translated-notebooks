{
 "cells": [
  {
   "cell_type": "markdown",
   "id": "50643418-74f8-4f4e-a3be-4ee68bd113cb",
   "metadata": {
    "lang": "fr"
   },
   "source": [
    "# Titre en français"
   ]
  },
  {
   "cell_type": "markdown",
   "id": "44b77937-5fb9-41b4-aa8f-0f542e30702d",
   "metadata": {
    "lang": "en"
   },
   "source": [
    "# Title in English"
   ]
  },
  {
   "cell_type": "code",
   "execution_count": null,
   "id": "8a2ccdb4-9395-483a-8362-202f305ef658",
   "metadata": {
    "lang": "fr"
   },
   "outputs": [],
   "source": [
    "# Code en français\n",
    "import pandas as pd"
   ]
  },
  {
   "cell_type": "code",
   "execution_count": null,
   "id": "b7983759-e77d-4c12-b52e-8666e756fcbc",
   "metadata": {
    "lang": "en"
   },
   "outputs": [],
   "source": [
    "# Code in english\n",
    "import pandas as pd"
   ]
  },
  {
   "cell_type": "code",
   "execution_count": null,
   "id": "d2391b0e-a166-4b8a-8652-adbcc14809be",
   "metadata": {
    "lang": "en,fr"
   },
   "outputs": [],
   "source": [
    "df = pd.DataFrame({'a': [1, 2], 'b': [5, 3]})\n",
    "df"
   ]
  },
  {
   "cell_type": "markdown",
   "id": "09befd32-6c44-4ba9-81c0-d8e8af701448",
   "metadata": {
    "lang": "en,fr"
   },
   "source": [
    "* (EN) Empty cell in both languages\n",
    "* (FR) Cellule vide dans les deux langues"
   ]
  },
  {
   "cell_type": "code",
   "execution_count": null,
   "id": "4d9432aa-1330-4803-9bc6-d952019c8133",
   "metadata": {},
   "outputs": [],
   "source": []
  },
  {
   "cell_type": "markdown",
   "id": "7717ef88-dfea-4b9f-bcf1-eb4dc1c54aa6",
   "metadata": {
    "lang": "fr"
   },
   "source": [
    "## Exercice"
   ]
  },
  {
   "cell_type": "markdown",
   "id": "1384c372-494f-483f-9bee-9f008b30080f",
   "metadata": {
    "lang": "en"
   },
   "source": [
    "## Exercise"
   ]
  },
  {
   "cell_type": "code",
   "execution_count": null,
   "id": "d6137b09-75f6-48fb-a4b0-14089485f8f8",
   "metadata": {
    "lang": "fr",
    "tags": [
     "soln"
    ]
   },
   "outputs": [],
   "source": [
    "df['trois_a'] = df['a'] * 3\n",
    "df['trois_a']"
   ]
  },
  {
   "cell_type": "code",
   "execution_count": null,
   "id": "a52e8ff1-de10-4564-b7fb-cbeffdfbe644",
   "metadata": {
    "lang": "fr",
    "tags": [
     "exer"
    ]
   },
   "outputs": [],
   "source": [
    "df['trois_a'] = ###\n",
    "df['trois_a']"
   ]
  },
  {
   "cell_type": "code",
   "execution_count": null,
   "id": "a9830297-7173-4c33-9584-65a298f19e95",
   "metadata": {
    "lang": "en",
    "tags": [
     "soln"
    ]
   },
   "outputs": [],
   "source": [
    "df['three_a'] = df['a'] * 3\n",
    "df['three_a']"
   ]
  },
  {
   "cell_type": "code",
   "execution_count": null,
   "id": "a89051b2-d5f3-4f86-8a06-f46d720c550e",
   "metadata": {
    "lang": "en",
    "tags": [
     "exer"
    ]
   },
   "outputs": [],
   "source": [
    "df['three_a'] = ###\n",
    "df['three_a']"
   ]
  },
  {
   "cell_type": "code",
   "execution_count": null,
   "id": "e1b5adc9-5fdf-4c19-be45-999249dbd57d",
   "metadata": {},
   "outputs": [],
   "source": []
  }
 ],
 "metadata": {
  "kernelspec": {
   "display_name": "Python 3 (ipykernel)",
   "language": "python",
   "name": "python3"
  },
  "language_info": {
   "codemirror_mode": {
    "name": "ipython",
    "version": 3
   },
   "file_extension": ".py",
   "mimetype": "text/x-python",
   "name": "python",
   "nbconvert_exporter": "python",
   "pygments_lexer": "ipython3",
   "version": "3.11.7"
  }
 },
 "nbformat": 4,
 "nbformat_minor": 5
}
